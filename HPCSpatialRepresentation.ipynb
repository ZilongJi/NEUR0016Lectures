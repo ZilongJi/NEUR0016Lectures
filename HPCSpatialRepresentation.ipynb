{
  "nbformat": 4,
  "nbformat_minor": 0,
  "metadata": {
    "colab": {
      "provenance": [],
      "authorship_tag": "ABX9TyMDxIbtkBIAzSgJ37BVUwiy",
      "include_colab_link": true
    },
    "kernelspec": {
      "name": "python3",
      "display_name": "Python 3"
    },
    "language_info": {
      "name": "python"
    }
  },
  "cells": [
    {
      "cell_type": "markdown",
      "metadata": {
        "id": "view-in-github",
        "colab_type": "text"
      },
      "source": [
        "<a href=\"https://colab.research.google.com/github/ZilongJi/NEUR0016Lectures/blob/main/HPCSpatialRepresentation.ipynb\" target=\"_parent\"><img src=\"https://colab.research.google.com/assets/colab-badge.svg\" alt=\"Open In Colab\"/></a>"
      ]
    },
    {
      "cell_type": "markdown",
      "source": [
        "1, Let's plot some place fields!"
      ],
      "metadata": {
        "id": "uyfziDgQXrvW"
      }
    },
    {
      "cell_type": "code",
      "source": [
        "import numpy as np\n",
        "import matplotlib.pyplot as plt"
      ],
      "metadata": {
        "id": "LHAoSNf9YCJJ"
      },
      "execution_count": null,
      "outputs": []
    },
    {
      "cell_type": "code",
      "execution_count": null,
      "metadata": {
        "id": "gJfKuRkpUzB_"
      },
      "outputs": [],
      "source": [
        "data = np.load(save_path)\n",
        "SpikeArray = data[\"SpikeArray\"]\n",
        "position = data[\"position\"]\n",
        "timestamps = data[\"timestamps\"]\n",
        "samplerate = data[\"samplerate\"]"
      ]
    }
  ]
}