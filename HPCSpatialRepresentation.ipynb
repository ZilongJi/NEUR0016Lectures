{
  "nbformat": 4,
  "nbformat_minor": 0,
  "metadata": {
    "colab": {
      "provenance": [],
      "authorship_tag": "ABX9TyNcdLe28mYZrA+WsSYuxKPQ",
      "include_colab_link": true
    },
    "kernelspec": {
      "name": "python3",
      "display_name": "Python 3"
    },
    "language_info": {
      "name": "python"
    }
  },
  "cells": [
    {
      "cell_type": "markdown",
      "metadata": {
        "id": "view-in-github",
        "colab_type": "text"
      },
      "source": [
        "<a href=\"https://colab.research.google.com/github/ZilongJi/NEUR0016Lectures/blob/main/HPCSpatialRepresentation.ipynb\" target=\"_parent\"><img src=\"https://colab.research.google.com/assets/colab-badge.svg\" alt=\"Open In Colab\"/></a>"
      ]
    },
    {
      "cell_type": "markdown",
      "source": [
        "### 1, Let's download the dataset from the GitHub repo"
      ],
      "metadata": {
        "id": "LMa48c4UcGOS"
      }
    },
    {
      "cell_type": "code",
      "source": [
        "# Clone the entire GitHub repository\n",
        "!git clone https://github.com/ZilongJi/NEUR0016Lectures.git\n",
        "\n",
        "# Change working directory to the cloned folder\n",
        "%cd NEUR0016Lectures"
      ],
      "metadata": {
        "id": "YLCU68qMb9o5",
        "outputId": "11f633bf-2bf7-4d53-c62f-d800dc4db0ef",
        "colab": {
          "base_uri": "https://localhost:8080/"
        }
      },
      "execution_count": 2,
      "outputs": [
        {
          "output_type": "stream",
          "name": "stdout",
          "text": [
            "Cloning into 'NEUR0016Lectures'...\n",
            "remote: Enumerating objects: 9, done.\u001b[K\n",
            "remote: Counting objects: 100% (9/9), done.\u001b[K\n",
            "remote: Compressing objects: 100% (7/7), done.\u001b[K\n",
            "remote: Total 9 (delta 1), reused 0 (delta 0), pack-reused 0 (from 0)\u001b[K\n",
            "Receiving objects: 100% (9/9), 1.56 MiB | 10.26 MiB/s, done.\n",
            "Resolving deltas: 100% (1/1), done.\n",
            "/content/NEUR0016Lectures\n"
          ]
        }
      ]
    },
    {
      "cell_type": "markdown",
      "source": [
        "### 2, Let's plot some receptive fields of place cells!"
      ],
      "metadata": {
        "id": "uyfziDgQXrvW"
      }
    },
    {
      "cell_type": "code",
      "source": [
        "import numpy as np\n",
        "import matplotlib.pyplot as plt"
      ],
      "metadata": {
        "id": "LHAoSNf9YCJJ"
      },
      "execution_count": null,
      "outputs": []
    },
    {
      "cell_type": "code",
      "execution_count": null,
      "metadata": {
        "id": "gJfKuRkpUzB_"
      },
      "outputs": [],
      "source": [
        "data = np.load(save_path)\n",
        "SpikeArray = data[\"SpikeArray\"]\n",
        "position = data[\"position\"]\n",
        "timestamps = data[\"timestamps\"]\n",
        "samplerate = data[\"samplerate\"]"
      ]
    }
  ]
}